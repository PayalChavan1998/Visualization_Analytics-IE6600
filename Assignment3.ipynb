{
 "cells": [
  {
   "cell_type": "code",
   "execution_count": 1,
   "id": "7574dafc",
   "metadata": {},
   "outputs": [],
   "source": [
    "import pandas as pd\n",
    "import numpy as np\n",
    "import matplotlib.pyplot as plt\n",
    "import seaborn as sns\n",
    "import plotly.offline as pyo\n",
    "import plotly.graph_objs as go\n",
    "import plotly.express as px\n",
    "import warnings\n",
    "warnings.filterwarnings(\"ignore\")"
   ]
  },
  {
   "cell_type": "code",
   "execution_count": null,
   "id": "4a5b72e2",
   "metadata": {},
   "outputs": [],
   "source": [
    "# Load all 5 datasets\n",
    "city1 = pd.read_csv(r\"C:\\Users\\payal\\Downloads\\Beijing.csv\")\n",
    "city2 = pd.read_csv(r\"C:\\Users\\payal\\Downloads\\Chengdu.csv\")\n",
    "city3 = pd.read_csv(r\"C:\\Users\\payal\\Downloads\\Guangzhou.csv\")\n",
    "city4 = pd.read_csv(r\"C:\\Users\\payal\\Downloads\\Shanghai.csv\")\n",
    "city5 = pd.read_csv(r\"C:\\Users\\payal\\Downloads\\Shenyang.csv\")\n",
    "\n",
    "# Add 'city' column to each of the datasets\n",
    "city1[\"city\"] = \"Beijing\"\n",
    "city2[\"city\"] = \"Chengdu\"\n",
    "city3[\"city\"] = \"Guangzhou\"\n",
    "city4[\"city\"] = \"Shanghai\"\n",
    "city5[\"city\"] = \"Shenyang\""
   ]
  },
  {
   "cell_type": "markdown",
   "id": "548310ea",
   "metadata": {},
   "source": [
    "### Que 1) Perform data cleaning, impute missing values, do feature engineering for “Season” feature map it with seasons."
   ]
  },
  {
   "cell_type": "markdown",
   "id": "745b43be",
   "metadata": {},
   "source": [
    "### TASK 1: Merge all 5 datasets"
   ]
  },
  {
   "cell_type": "code",
   "execution_count": null,
   "id": "5834590f",
   "metadata": {},
   "outputs": [],
   "source": [
    "# Merge all 5 datasets\n",
    "chinese_cities = pd.concat([city1, city2, city3, city4, city5], ignore_index=True)\n",
    "chinese_cities.sample(5)"
   ]
  },
  {
   "cell_type": "code",
   "execution_count": null,
   "id": "b2310373",
   "metadata": {},
   "outputs": [],
   "source": [
    "# Add 'date' column to the merged dataset\n",
    "chinese_cities[\"date\"] = pd.to_datetime(chinese_cities[[\"month\", \"day\", \"year\"]])"
   ]
  },
  {
   "cell_type": "code",
   "execution_count": null,
   "id": "a4a67968",
   "metadata": {},
   "outputs": [],
   "source": [
    "chinese_cities.sample(3)"
   ]
  },
  {
   "cell_type": "code",
   "execution_count": null,
   "id": "fd5e191d",
   "metadata": {},
   "outputs": [],
   "source": [
    "# Check for datatypes & shape of the dataset\n",
    "chinese_cities.info()\n",
    "chinese_cities.shape"
   ]
  },
  {
   "cell_type": "markdown",
   "id": "d1d9b284",
   "metadata": {},
   "source": [
    "### TASK 2: Perform Data Cleaning"
   ]
  },
  {
   "cell_type": "code",
   "execution_count": null,
   "id": "2a0b71a7",
   "metadata": {},
   "outputs": [],
   "source": [
    "# Check for missing values\n",
    "chinese_cities.isnull().sum()"
   ]
  },
  {
   "cell_type": "markdown",
   "id": "ca379066",
   "metadata": {},
   "source": [
    "### TASK 3: Impute missing values"
   ]
  },
  {
   "cell_type": "code",
   "execution_count": null,
   "id": "e5a2528f",
   "metadata": {},
   "outputs": [],
   "source": [
    "# Copy the dataframe to a new dataframe\n",
    "imputed_df = chinese_cities.copy()\n",
    "\n",
    "# Filling missing values with mean, median, mode, ffill, bfill, or interpolate method\n",
    "imputed_df = imputed_df.interpolate(method=\"bfill\")\n",
    "imputed_df.head()"
   ]
  },
  {
   "cell_type": "code",
   "execution_count": null,
   "id": "7199f2c8",
   "metadata": {},
   "outputs": [],
   "source": [
    "# Check again for missing values after imputation\n",
    "imputed_df.isnull().sum()"
   ]
  },
  {
   "cell_type": "code",
   "execution_count": null,
   "id": "76c18a13",
   "metadata": {
    "scrolled": true
   },
   "outputs": [],
   "source": [
    "# Check for duplicate records\n",
    "duplicate = imputed_df[imputed_df.duplicated()]\n",
    "print(\"Duplicate Rows :\")\n",
    "duplicate"
   ]
  },
  {
   "cell_type": "markdown",
   "id": "dce21397",
   "metadata": {},
   "source": [
    "### TASK 4: Do feature engineering for \"Season\" and feature map it with seasons"
   ]
  },
  {
   "cell_type": "code",
   "execution_count": null,
   "id": "9ef2b841",
   "metadata": {},
   "outputs": [],
   "source": [
    "# Get the unique values in column \"season\"\n",
    "unique_values = imputed_df[\"season\"].unique()\n",
    "\n",
    "# Print the unique values\n",
    "print(\"Unique Seasons\")\n",
    "print(unique_values)"
   ]
  },
  {
   "cell_type": "code",
   "execution_count": null,
   "id": "6c83a22f",
   "metadata": {},
   "outputs": [],
   "source": [
    "# Map the values of the \"season\" feature to season names\n",
    "seasons = {1: \"Spring\", 2: \"Summer\", 3: \"Fall\", 4: \"Winter\"}\n",
    "imputed_df[\"season\"] = imputed_df[\"season\"].map(seasons)"
   ]
  },
  {
   "cell_type": "code",
   "execution_count": null,
   "id": "38c4fa82",
   "metadata": {},
   "outputs": [],
   "source": [
    "imputed_df.sample(5)"
   ]
  },
  {
   "cell_type": "markdown",
   "id": "361d8484",
   "metadata": {},
   "source": [
    "### Que 2) Generate a line chart showing the temperature (y-axis) and dates (x-axis) for one of the five cities. Is there a noticeable seasonal pattern?"
   ]
  },
  {
   "cell_type": "code",
   "execution_count": null,
   "id": "0cd845a4",
   "metadata": {},
   "outputs": [],
   "source": [
    "# Filter the DataFrame to include only records with the name 'Beijing'\n",
    "filtered_df = imputed_df[imputed_df[\"city\"] == \"Beijing\"]\n",
    "\n",
    "# Plot the temperature values\n",
    "fig = px.line(filtered_df, x=\"date\", y=\"TEMP\")\n",
    "\n",
    "# Display the plot\n",
    "fig.update_xaxes(title_text=\"Date\")\n",
    "fig.update_yaxes(title_text=\"Temperature (°C)\")\n",
    "fig.update_layout(title_text=\"Temperature Distribution over time\")\n",
    "fig.show()"
   ]
  },
  {
   "cell_type": "markdown",
   "id": "54ca31fc",
   "metadata": {},
   "source": [
    "Insights: The above line plot shows the Distribution of Temperature(°C) over the period of years for the city 'Beijing'. We can see that the temperature over the years is same with roughly min-temp = -19°C and max-temp = 42°C."
   ]
  },
  {
   "cell_type": "markdown",
   "id": "ddbac889",
   "metadata": {},
   "source": [
    "### Que 3) Create a boxplot showing the temperature values aggregated by month for one of the five cities. (Use plotly)"
   ]
  },
  {
   "cell_type": "code",
   "execution_count": null,
   "id": "ea9c9824",
   "metadata": {},
   "outputs": [],
   "source": [
    "# Filter the DataFrame to include only records with the name 'Shenyang'\n",
    "filtered_df = imputed_df[imputed_df[\"city\"] == \"Shenyang\"]\n",
    "\n",
    "px.box(filtered_df, x=\"month\", y=\"TEMP\", points=\"all\")\n",
    "\n",
    "# Adding standard deviation and mean\n",
    "fig = go.Figure()\n",
    "fig.add_trace(go.Box(x=filtered_df.month, y=filtered_df.TEMP, marker_color=\"purple\", boxmean=\"sd\"))\n",
    "\n",
    "# Add labels and title\n",
    "fig.update_xaxes(title_text=\"Month\")\n",
    "fig.update_yaxes(title_text=\"Temperature (°C)\")\n",
    "fig.update_layout(title_text=\"Temperature Distribution by Month for Shenyang\")"
   ]
  },
  {
   "cell_type": "markdown",
   "id": "42fc57be",
   "metadata": {},
   "source": [
    "Insights: The box plot shows the Temperature Distribution by months for the city 'Shenyang'. We can see that there is a variation of temperatures for each month. The temperatures in Shenyang are high for the months July and August & low for the months December and January."
   ]
  },
  {
   "cell_type": "markdown",
   "id": "a8cafdf3",
   "metadata": {},
   "source": [
    "### Que 4) Create a heatmap to generate correlation between numeric features."
   ]
  },
  {
   "cell_type": "code",
   "execution_count": null,
   "id": "03053f65",
   "metadata": {},
   "outputs": [],
   "source": [
    "# Select numerical features from \"chinese_cities\" dataset\n",
    "num_features = [\"year\", \"PM\", \"DEWP\", \"HUMI\", \"PRES\", \"TEMP\", \"Iws\", \"precipitation\", \"Iprec\"]\n",
    "\n",
    "# Create correlation matrix of numerical features\n",
    "corr_matrix = imputed_df[num_features].corr()\n",
    "\n",
    "# Create a heatmap of the correlation matrix\n",
    "plt.figure(figsize=(8, 5))\n",
    "sns.heatmap(corr_matrix, annot=True, cmap=\"RdBu\", fmt=\".1f\")\n",
    "plt.title(\"Correlation of Numerical Features using Heatmap\")\n",
    "plt.show()"
   ]
  },
  {
   "cell_type": "markdown",
   "id": "27c37af1",
   "metadata": {},
   "source": [
    "Insights: The heatmap shows the correlation between pairs of numerical features, with positive correlations shown in blue and negative correlations shown in red. The color scale ranges from -1 to 1, with -1 indicating a perfectly negative correlation, 0 indicates no correlation, and 1 indicates a perfectly positive correlation. We can see that there is a strong positive correlation between \"Humidity\" and \"Dew Point\". Also, there is a strong positive correlation between \"Precipitation\" and \"Iprec\". There is a strong negative correlation between \"Temperature\" and \"Pressure\"."
   ]
  },
  {
   "cell_type": "markdown",
   "id": "b9022203",
   "metadata": {},
   "source": [
    "### Que 5) Create a scatter plot using two features of your choice. Choose a pair of features that you believe have some correlation between them. Based on your visualization, do they seem to be correlated? (Use plotly)"
   ]
  },
  {
   "cell_type": "code",
   "execution_count": null,
   "id": "2496b42d",
   "metadata": {},
   "outputs": [],
   "source": [
    "# Create a scatter plot for Season vs. Temperature\n",
    "fig = px.scatter(imputed_df, x=\"season\", y=\"TEMP\", color=\"season\")\n",
    "\n",
    "# Display the plot\n",
    "fig.update_xaxes(title_text=\"Season\")\n",
    "fig.update_yaxes(title_text=\"Temperature (°C)\")\n",
    "fig.update_layout(title_text=\"Scatter Plot of Season vs Temperature\")\n",
    "fig.show()"
   ]
  },
  {
   "cell_type": "markdown",
   "id": "0f60fa06",
   "metadata": {},
   "source": [
    "Insights: The scatter plot of Temperature(y-axis) vs Season(x-axis) shows that the temperatures are highest in the summer, and lowest in the winter. This is as expected in general. So we can see that there is a strong correlation between the two features \"Temperature\" and \"Seasons\"."
   ]
  },
  {
   "cell_type": "markdown",
   "id": "8f614f34",
   "metadata": {},
   "source": [
    "### Que 6) Create a single plot that illustrates the value of the PM column over time for each of the four cities. Color and label each city differently so that they can be distinguished easily."
   ]
  },
  {
   "cell_type": "code",
   "execution_count": null,
   "id": "e69391fa",
   "metadata": {},
   "outputs": [],
   "source": [
    "# Create a line chart for the PM column of each city\n",
    "fig = px.line(imputed_df, x=\"date\", y=\"PM\", color=\"city\")\n",
    "\n",
    "# Display the plot\n",
    "fig.update_xaxes(title_text=\"Date\")\n",
    "fig.update_yaxes(title_text=\"PM\")\n",
    "fig.update_layout(title_text=\"PM Values by City\")\n",
    "fig.show()"
   ]
  },
  {
   "cell_type": "markdown",
   "id": "df29d67f",
   "metadata": {},
   "source": [
    "Insights: The line chart shows the distribution of PM values over time for each of the five cities. The date(x-axis) and PM(y-axis) is denoting that there is a variation of PM levels over a period for each of the cities. Some cities have consistently higher or lower PM levels than others. "
   ]
  },
  {
   "cell_type": "markdown",
   "id": "878b5710",
   "metadata": {},
   "source": [
    "### Que 7) How do meteorological factors (DEWP, HUMI, PRES, TEMP) correlate with PM levels? Create scatter plots to explore relationships. (Use plotly)"
   ]
  },
  {
   "cell_type": "code",
   "execution_count": null,
   "id": "d1fd763e",
   "metadata": {},
   "outputs": [],
   "source": [
    "#Reference- https://plotly.com/python/splom/\n",
    "# Create scatter plots for each pair of the features to check the correlation\n",
    "fig = px.scatter_matrix(imputed_df, dimensions=[\"DEWP\", \"HUMI\", \"PRES\", \"TEMP\", \"PM\"], color=\"PM\")\n",
    "\n",
    "# Display the plot\n",
    "fig.update_layout(title_text=\"Scatter Plots of Meteorological Factors vs PM Levels\")\n",
    "fig.show()"
   ]
  },
  {
   "cell_type": "markdown",
   "id": "c9b8cee4",
   "metadata": {},
   "source": [
    "Insights: The scatter plot shows the correlation between the meteorological factors((DEWP, HUMI, PRES, TEMP) with the PM levels. The scatter plot matrix shows the pairwise relationship between the features. We can notice that - 1)DEWP vs PM have strong positive correlation. 2)HUMI vs PM have strong positive correlation. 3)PRES vs PM have no correlation. 4)TEMP vs PM have no correlation."
   ]
  },
  {
   "cell_type": "markdown",
   "id": "3cb7b505",
   "metadata": {},
   "source": [
    "### Que 8) How do PM levels compare between the five cities? Create bar charts or boxplots for a city-to-city comparison. (Use plotly )"
   ]
  },
  {
   "cell_type": "code",
   "execution_count": null,
   "id": "9b58a419",
   "metadata": {},
   "outputs": [],
   "source": [
    "# Create box plots for each city\n",
    "fig = px.box(imputed_df, x=\"city\", y=\"PM\", color=\"city\")\n",
    "\n",
    "# Display the plot\n",
    "fig.update_xaxes(title_text=\"City\")\n",
    "fig.update_yaxes(title_text=\"PM\")\n",
    "fig.update_layout(title_text=\"PM Levels by City\")\n",
    "fig.show()"
   ]
  },
  {
   "cell_type": "markdown",
   "id": "cec4a495",
   "metadata": {},
   "source": [
    "Insights: The box plot shows the comparison of PM levels by city. We can interpret that the PM levels are higher for cities Beijing and Shenyang compared to the other cities."
   ]
  },
  {
   "cell_type": "markdown",
   "id": "d8d2a9be",
   "metadata": {},
   "source": [
    "### Que 9) Create a line plot to show the seasonal distribution of precipitation levels and examine how it relates to PM levels. (Use plotly)"
   ]
  },
  {
   "cell_type": "code",
   "execution_count": null,
   "id": "0fd6873b",
   "metadata": {
    "scrolled": true
   },
   "outputs": [],
   "source": [
    "# Create a line plot for the seasonal distribution of precipitation and PM levels\n",
    "fig = px.line(imputed_df, x=\"season\", y=[\"precipitation\", \"PM\"], color=\"city\", facet_col=\"city\")\n",
    "\n",
    "# Change the scale of the y-axis\n",
    "fig.update_yaxes(range=[0, 1000])\n",
    "\n",
    "# Display the plot\n",
    "fig.update_xaxes(title_text=\"Season\")\n",
    "fig.update_layout(title_text=\"Seasonal Distribution of Precipitation vs PM Levels\")\n",
    "fig.show()"
   ]
  },
  {
   "cell_type": "code",
   "execution_count": null,
   "id": "35f36030",
   "metadata": {},
   "outputs": [],
   "source": [
    "# Create a line plot of Season vs Precipitation Levels\n",
    "fig = px.line(imputed_df, x=\"season\", y=\"precipitation\", color=\"city\", facet_col=\"city\")\n",
    "\n",
    "# Change the scale of the y-axis\n",
    "fig.update_yaxes(range=[0, 100])\n",
    "\n",
    "# Display the plot\n",
    "fig.update_layout(title_text=\"Seasonal Distribution of Precipitation Levels by City\")\n",
    "fig.show()"
   ]
  },
  {
   "cell_type": "code",
   "execution_count": null,
   "id": "fdc54a7b",
   "metadata": {},
   "outputs": [],
   "source": [
    "# Create a line plot of Season vs PM Levels\n",
    "fig = px.line(imputed_df, x=\"season\", y=\"PM\", color=\"city\", facet_col=\"city\")\n",
    "\n",
    "# Display the plot\n",
    "fig.update_layout(title_text=\"Seasonal Distribution of PM Levels by City\")\n",
    "fig.show()"
   ]
  },
  {
   "cell_type": "markdown",
   "id": "183ffae7",
   "metadata": {},
   "source": [
    "Insights: The line plots shows the seasonal distribution of each city with respect to precipitation and PM levels. Each line represents different city, and the color indicates which city it belongs to. The season(x-axis) and Precipitation and PM(y-axis) shows that generally the precipitation is highest in summer and lowest in winter. On the contrary, PM levels are generally highest in winter and lowest in summer, having variations for some cities."
   ]
  },
  {
   "cell_type": "markdown",
   "id": "eaf76fb6",
   "metadata": {},
   "source": [
    "### Que 10) Create a simple dashboard using pydash tutorial 1."
   ]
  },
  {
   "cell_type": "code",
   "execution_count": null,
   "id": "9d9eacf4",
   "metadata": {},
   "outputs": [],
   "source": [
    "from dash import Dash, html, dcc, callback, Output, Input\n",
    "import dash_core_components as dcc\n",
    "import dash_html_components as html\n",
    "\n",
    "app = Dash(__name__)\n",
    "\n",
    "app.layout = html.Div([\n",
    "    html.H1(children = \"Dashboard of Precipitation over time by City\", style = {\"textAlign\": \"center\"}),\n",
    "    dcc.Dropdown(imputed_df.city.unique(), \"Shanghai\", id = \"dropdown-selection\"),\n",
    "    dcc.Graph(id=\"graph-content\")\n",
    "])\n",
    "\n",
    "@callback(\n",
    "    Output(\"graph-content\", \"figure\"),\n",
    "    Input(\"dropdown-selection\", \"value\")\n",
    ")\n",
    "\n",
    "def update_graph(value):\n",
    "    dff = imputed_df[imputed_df[\"city\"] == value]\n",
    "    return px.line(dff, x=\"date\", y=\"Iprec\")\n",
    "\n",
    "\n",
    "if __name__ == \"__main__\":\n",
    "    app.run_server(debug=True, port=8051)"
   ]
  },
  {
   "cell_type": "markdown",
   "id": "1675cfa0",
   "metadata": {},
   "source": [
    "Insights: This simple pydash dashboard shows the distribution of precipitation over a period for each of the 5 cities.The dashboard consists of a dropdown menu to select the city and a line plot showing the precipitation over time for the selected city. And the plot represents date(x-axis) and cumulative precipitation:Iprec(y-axis). There is a variation of precipitation over time for each cities."
   ]
  }
 ],
 "metadata": {
  "kernelspec": {
   "display_name": "Python 3 (ipykernel)",
   "language": "python",
   "name": "python3"
  },
  "language_info": {
   "codemirror_mode": {
    "name": "ipython",
    "version": 3
   },
   "file_extension": ".py",
   "mimetype": "text/x-python",
   "name": "python",
   "nbconvert_exporter": "python",
   "pygments_lexer": "ipython3",
   "version": "3.11.5"
  }
 },
 "nbformat": 4,
 "nbformat_minor": 5
}
