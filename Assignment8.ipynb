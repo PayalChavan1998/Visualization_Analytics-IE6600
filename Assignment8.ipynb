{
 "cells": [
  {
   "cell_type": "code",
   "execution_count": null,
   "id": "47e5d5e7",
   "metadata": {},
   "outputs": [],
   "source": [
    "!pip install plotly"
   ]
  },
  {
   "cell_type": "code",
   "execution_count": null,
   "id": "909aadb2",
   "metadata": {},
   "outputs": [],
   "source": [
    "# Importing required libraries\n",
    "import pandas as pd\n",
    "import numpy as np\n",
    "import matplotlib.pyplot as plt\n",
    "import seaborn as sns\n",
    "import plotly.express as px\n",
    "import warnings\n",
    "warnings.filterwarnings(\"ignore\")"
   ]
  },
  {
   "cell_type": "code",
   "execution_count": null,
   "id": "ca27d340",
   "metadata": {},
   "outputs": [],
   "source": [
    "# Reading the dataset\n",
    "SPD_File = r\"/Users/payalchavan/Downloads/SPD_Crime_Data__2008-Present.csv\"\n",
    "SPD_DF = pd.read_csv(SPD_File, low_memory=False)"
   ]
  },
  {
   "cell_type": "markdown",
   "id": "2f15b042",
   "metadata": {},
   "source": [
    "### TASK 1: Data Cleaning"
   ]
  },
  {
   "cell_type": "code",
   "execution_count": null,
   "id": "7e3bee85",
   "metadata": {},
   "outputs": [],
   "source": [
    "# Checking the dataset\n",
    "SPD_DF.head()"
   ]
  },
  {
   "cell_type": "code",
   "execution_count": null,
   "id": "913561c4",
   "metadata": {},
   "outputs": [],
   "source": [
    "# Checking shape of dataset\n",
    "SPD_DF.shape"
   ]
  },
  {
   "cell_type": "code",
   "execution_count": null,
   "id": "2741b036",
   "metadata": {},
   "outputs": [],
   "source": [
    "# Getting information of dataset\n",
    "SPD_DF.info()"
   ]
  },
  {
   "cell_type": "code",
   "execution_count": null,
   "id": "bf02cea9",
   "metadata": {},
   "outputs": [],
   "source": [
    "# Checking null/missing values\n",
    "SPD_DF.isnull().sum()"
   ]
  },
  {
   "cell_type": "code",
   "execution_count": null,
   "id": "e9d393e9",
   "metadata": {},
   "outputs": [],
   "source": [
    "# Checking duplicate values\n",
    "SPD_DF.duplicated().sum()"
   ]
  },
  {
   "cell_type": "code",
   "execution_count": null,
   "id": "e2ea0f0f",
   "metadata": {},
   "outputs": [],
   "source": [
    "# Copy the dataframe to a new dataframe\n",
    "#SPD_Crime_Data = SPD_DF.copy()"
   ]
  },
  {
   "cell_type": "code",
   "execution_count": null,
   "id": "773448c0",
   "metadata": {},
   "outputs": [],
   "source": [
    "# Sort the rows based on the 'Report Number' column\n",
    "#sorted_SPD_df = SPD_Crime_Data.sort_values('Report Number',ascending=True).reset_index(drop=True)\n",
    "#sorted_SPD_df"
   ]
  },
  {
   "cell_type": "code",
   "execution_count": null,
   "id": "696bf9f2",
   "metadata": {},
   "outputs": [],
   "source": [
    "# Convert columns to datetime format\n",
    "SPD_DF[\"Offense Start DateTime\"] = pd.to_datetime(SPD_DF[\"Offense Start DateTime\"], errors='coerce')\n",
    "SPD_DF[\"Offense End DateTime\"] = pd.to_datetime(SPD_DF[\"Offense End DateTime\"], errors='coerce')\n",
    "SPD_DF[\"Report DateTime\"] = pd.to_datetime(SPD_DF[\"Report DateTime\"], errors='coerce')"
   ]
  },
  {
   "cell_type": "code",
   "execution_count": null,
   "id": "48d1b2a3",
   "metadata": {},
   "outputs": [],
   "source": [
    "# Extract the desired date components\n",
    "SPD_DF['hour_added'] = SPD_DF['Report DateTime'].dt.hour\n",
    "SPD_DF['date_added'] = SPD_DF['Report DateTime'].dt.day\n",
    "SPD_DF['month_added'] = SPD_DF['Report DateTime'].dt.month\n",
    "SPD_DF['year_added'] = SPD_DF['Report DateTime'].dt.year"
   ]
  },
  {
   "cell_type": "code",
   "execution_count": null,
   "id": "4cb02772",
   "metadata": {},
   "outputs": [],
   "source": [
    "# Filling missing values\n",
    "SPD_DF['Offense Start DateTime'].fillna(method='ffill', inplace=True)\n",
    "SPD_DF['Offense End DateTime'].fillna(method='ffill', inplace=True)\n",
    "SPD_DF['Precinct'].fillna(SPD_DF['Precinct'].mode()[0], inplace=True)\n",
    "SPD_DF['Sector'].fillna(SPD_DF['Sector'].mode()[0], inplace=True)\n",
    "SPD_DF['Beat'].fillna(SPD_DF['Beat'].mode()[0], inplace=True)\n",
    "SPD_DF['MCPP'].fillna('Unknown', inplace=True)\n",
    "SPD_DF['100 Block Address'].fillna('Unknown', inplace=True)"
   ]
  },
  {
   "cell_type": "code",
   "execution_count": null,
   "id": "1ce539f4",
   "metadata": {},
   "outputs": [],
   "source": [
    "# Manipulate string to capitalize first letter of string\n",
    "SPD_DF['Crime Against Category'] = SPD_DF['Crime Against Category'].str.title()"
   ]
  },
  {
   "cell_type": "code",
   "execution_count": null,
   "id": "62a265dd",
   "metadata": {},
   "outputs": [],
   "source": [
    "SPD_DF.info()"
   ]
  },
  {
   "cell_type": "code",
   "execution_count": null,
   "id": "8783e21b",
   "metadata": {},
   "outputs": [],
   "source": [
    "SPD_DF.sample(5)"
   ]
  },
  {
   "cell_type": "markdown",
   "id": "0ef37b87",
   "metadata": {},
   "source": [
    "### TASK 2: Offense Type Distribution Analysis "
   ]
  },
  {
   "cell_type": "code",
   "execution_count": null,
   "id": "383e2161",
   "metadata": {},
   "outputs": [],
   "source": [
    "# Create a pie chart to show ratio of different types of crimes\n",
    "SPD_DF['Offense'].value_counts().plot(kind = 'pie',figsize = (10,10),autopct='%1.1f%%')"
   ]
  },
  {
   "cell_type": "code",
   "execution_count": null,
   "id": "cb561913",
   "metadata": {},
   "outputs": [],
   "source": [
    "offense_counts = SPD_DF['Offense'].value_counts().reset_index()\n",
    "\n",
    "fig = px.pie(offense_counts, names=offense_counts['Offense'], values='Offense', hole=0.4, \n",
    "             title='Distribution of Offense Types')\n",
    "\n",
    "fig.update_traces(textposition='inside', textinfo='percent+label')\n",
    "fig.update_layout(showlegend=False)  # Hiding legend for clarity\n",
    "fig.update_layout(height=800)\n",
    "fig.show()"
   ]
  },
  {
   "cell_type": "markdown",
   "id": "cbc62e27",
   "metadata": {},
   "source": [
    "Insights: Based on the crime data analysis, Theft Motor Vehicles is the most significant contributor, accounting for 15.9% of reported incidents. Burglary/Breaking & Entering follows closely at 11.3%, indicating a substantial impact on public safety. The noteworthy occurrence of Destruction/Damage/Vandalism of Property suggests a concerning trend, contributing significantly to the overall crime landscape. The combined contribution of all other larcenies at 8.45% and Simple Assault at 7.6% underscores the diverse nature of criminal activities affecting the community. These are the top 5 offenses that have been reported."
   ]
  },
  {
   "cell_type": "markdown",
   "id": "444cda28",
   "metadata": {},
   "source": [
    "### TASK 3: Line Chart Analysis of offense Trends "
   ]
  },
  {
   "cell_type": "code",
   "execution_count": null,
   "id": "1e2707ad",
   "metadata": {},
   "outputs": [],
   "source": [
    "# Replace 'Specific Offense Type' with the offense type you want to analyze\n",
    "specific_offense_type = 'Robbery'\n",
    "\n",
    "\n",
    "# Filtering data for the specific offense type\n",
    "specific_offense_df = SPD_DF[SPD_DF['Offense'] == specific_offense_type]\n",
    "\n",
    "# Grouping by month and year and counting the occurrences\n",
    "offense_frequency = specific_offense_df.groupby(['year_added', 'month_added']).size().reset_index(name='Frequency')\n",
    "\n",
    "# Plotting a line chart\n",
    "fig = px.line(offense_frequency, x='month_added', y='Frequency', color='year_added',\n",
    "              title=f'Frequency of {specific_offense_type} Over Time',\n",
    "              labels={'Frequency': 'Number of Incidents', 'month_added': 'Month (1-12)'})\n",
    "\n",
    "# Show the chart\n",
    "fig.show()\n"
   ]
  },
  {
   "cell_type": "markdown",
   "id": "550645f2",
   "metadata": {},
   "source": [
    "Insights: The x-axis represents the \"month\" of crime incidents while the y-axis represents the \"No. of incidents\". From the above line chart, we can observe that the highest incidence of 'Robbery' noting 189 occured on Jan 2022. Also the least incidents of 'Robbery' noting 46 took place in Dec 2023. We can observe there are variations of trends of incidents taking place every year."
   ]
  },
  {
   "cell_type": "markdown",
   "id": "5bef7396",
   "metadata": {},
   "source": [
    "### TASK 4: Identifying Safest and Least Safe Localities"
   ]
  },
  {
   "cell_type": "code",
   "execution_count": null,
   "id": "fd241292",
   "metadata": {},
   "outputs": [],
   "source": [
    "# Assuming 'MCPP' is the column representing localities\n",
    "\n",
    "locality_crime_counts = SPD_DF.groupby('MCPP')['Offense'].count().reset_index(name='CrimeFrequency')\n",
    "\n",
    "# Handling null values, if any\n",
    "locality_crime_counts = locality_crime_counts.dropna(subset=['MCPP', 'CrimeFrequency'])\n",
    "sorted_localities = locality_crime_counts.sort_values(by='CrimeFrequency', ascending=False)\n",
    "\n",
    "top_3_localities = sorted_localities.tail(4)\n",
    "least_3_localities = sorted_localities.head(3)\n",
    "\n",
    "# Remove rows with '<Null>' in 'MCPP'\n",
    "top_3_localities = top_3_localities[top_3_localities['MCPP'] != '<Null>']"
   ]
  },
  {
   "cell_type": "code",
   "execution_count": null,
   "id": "9a70ceb0",
   "metadata": {},
   "outputs": [],
   "source": [
    "from plotly.subplots import make_subplots\n",
    "import plotly.graph_objects as go\n",
    "#fig = make_subplots(rows=2)\n",
    "\n",
    "fig = make_subplots(rows=1, cols=2, subplot_titles=['Top 3 Safest', 'Least 3 Safe'])\n",
    "\n",
    "# Add bar chart for Top 3 Safest\n",
    "fig.add_trace(go.Bar(x=top_3_localities['MCPP'], y=top_3_localities['CrimeFrequency'],\n",
    "                     marker_color=top_3_localities['CrimeFrequency'], name='Top 3 Safest'),\n",
    "              row=1, col=1)\n",
    "\n",
    "# Add bar chart for Top 3 Least Safe\n",
    "fig.add_trace(go.Bar(x=least_3_localities['MCPP'], y=least_3_localities['CrimeFrequency'],\n",
    "                     marker_color=least_3_localities['CrimeFrequency'], name='Least 3 Safest'),\n",
    "              row=1, col=2)\n",
    "\n",
    "# Update layout\n",
    "fig.update_layout(title_text='Top 3 Safest and Least Safe Localities', barmode='group')\n",
    "\n",
    "fig.update_xaxes(title_text='Locality', row=1, col=1)\n",
    "fig.update_xaxes(title_text='Locality', row=1, col=2)\n",
    "fig.update_yaxes(title_text='Crime Frequency', row=1, col=1)\n",
    "\n",
    "# fig.update_layout(legend=dict(title=dict(text='Crime Frequency')))\n",
    "\n",
    "# Show the chart\n",
    "fig.show()"
   ]
  },
  {
   "cell_type": "code",
   "execution_count": null,
   "id": "61f4fff9",
   "metadata": {},
   "outputs": [],
   "source": [
    "print(top_3_localities)"
   ]
  },
  {
   "cell_type": "code",
   "execution_count": null,
   "id": "6a342e35",
   "metadata": {},
   "outputs": [],
   "source": [
    "print(least_3_localities)"
   ]
  },
  {
   "cell_type": "markdown",
   "id": "a82ada1b",
   "metadata": {},
   "source": [
    "Insights: From the above bar plots, we can notice that the crime frequency is highest in the locality \"Commercial Harbor Island\", followed by \"Cascade\" and lowest in the locality \"Downtown Commercial\", followed by \"Capitol Hill\" and \"Northgate\"."
   ]
  },
  {
   "cell_type": "markdown",
   "id": "fc464d56",
   "metadata": {},
   "source": [
    "### TASK 5: Histogram/Line chart to display the distribution of crime incidents over time"
   ]
  },
  {
   "cell_type": "code",
   "execution_count": null,
   "id": "640a111a",
   "metadata": {},
   "outputs": [],
   "source": [
    "# Plotting a histogram\n",
    "fig = px.histogram(SPD_DF, x='hour_added', title='Distribution of Crime Incidents Over Different Times of the Day',\n",
    "                   labels={'hour_added': 'Time(in hrs)', 'count': 'Number of Incidents'})\n",
    "\n",
    "# Show the chart\n",
    "fig.show()"
   ]
  },
  {
   "cell_type": "markdown",
   "id": "6addc4cd",
   "metadata": {},
   "source": [
    "Insights: From the above histogram, we can notice that the Distribution of Crime Incidents is at the peak at hour 13 with the maximum incident count to be 74.069K. And the least incident counts are reported at hour 4 with the count of 15.345K. It is obivious that there are less chances of \"Robbery\" in the early hours of day"
   ]
  },
  {
   "cell_type": "markdown",
   "id": "9abd6b35",
   "metadata": {},
   "source": [
    "### TASK 6: Box Plot for Crime Time Analysis"
   ]
  },
  {
   "cell_type": "code",
   "execution_count": null,
   "id": "2a6a07b1",
   "metadata": {},
   "outputs": [],
   "source": [
    "# Plotting box plots\n",
    "\n",
    "fig = px.box(SPD_DF, x='Crime Against Category', y='hour_added', title='Distribution of Times for different Crime Types', color='Crime Against Category')\n",
    "fig.update_xaxes(title='Crime Types')\n",
    "fig.update_yaxes(title='Time(in hrs)')\n",
    "fig.show()"
   ]
  },
  {
   "cell_type": "code",
   "execution_count": null,
   "id": "c56eebdf",
   "metadata": {},
   "outputs": [],
   "source": [
    "# Assuming 'Offense Start DateTime' is the column containing timestamps\n",
    "# and 'Offense' is the column containing offense types\n",
    "#SPD_DF['hour_added'] = df_spd['Report DateTime'].dt.hour\n",
    "\n",
    "# Plotting a box plot with swapped axes\n",
    "fig = px.box(SPD_DF, x='hour_added', y='Offense Parent Group', title='Distribution of Crime Times by Offense Type',\n",
    "             labels={'hour_added': 'Hour of the Day', 'Crime Against Category': 'Type of Crime'})\n",
    "\n",
    "# Increasing vertical figure size\n",
    "fig.update_layout(height=1200)\n",
    "# Show the chart\n",
    "fig.show()"
   ]
  },
  {
   "cell_type": "markdown",
   "id": "80cbacaf",
   "metadata": {},
   "source": [
    "Insights:The box plot provides us with some intriguing insights. Gambling is not a daytime activity, and it is most prevalent at the 19th hour. Purchasing prostitution occurs in a small time range, usually at night. In contrast, liquor law violations, drunkenness, aggravated assault, and driving under the influence can occur at any time of day. Alcohol appears to be a common factor in crimes that occur within a large time window. Most of the data points fall within the 5-20 hour time window, making it the most likely time period to observe a criminal offense "
   ]
  },
  {
   "cell_type": "code",
   "execution_count": null,
   "id": "80d1e895",
   "metadata": {},
   "outputs": [],
   "source": []
  }
 ],
 "metadata": {
  "kernelspec": {
   "display_name": "Python 3 (ipykernel)",
   "language": "python",
   "name": "python3"
  },
  "language_info": {
   "codemirror_mode": {
    "name": "ipython",
    "version": 3
   },
   "file_extension": ".py",
   "mimetype": "text/x-python",
   "name": "python",
   "nbconvert_exporter": "python",
   "pygments_lexer": "ipython3",
   "version": "3.11.5"
  }
 },
 "nbformat": 4,
 "nbformat_minor": 5
}
